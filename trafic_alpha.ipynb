{
 "cells": [
  {
   "cell_type": "code",
   "execution_count": 41,
   "metadata": {
    "collapsed": true
   },
   "outputs": [],
   "source": [
    "import matplotlib.pyplot as plt\n",
    "import pandas as pd\n",
    "import numpy as np\n",
    "import itertools\n",
    "%matplotlib inline"
   ]
  },
  {
   "cell_type": "markdown",
   "metadata": {},
   "source": [
    "# 学習データをロード"
   ]
  },
  {
   "cell_type": "code",
   "execution_count": 2,
   "metadata": {},
   "outputs": [
    {
     "name": "stdout",
     "output_type": "stream",
     "text": [
      "CPU times: user 542 ms, sys: 54.8 ms, total: 597 ms\n",
      "Wall time: 600 ms\n"
     ]
    }
   ],
   "source": [
    "%%time\n",
    "Data_train  = pd.read_csv('./trafic_data/trafic_data_alpha.csv', header=None)"
   ]
  },
  {
   "cell_type": "code",
   "execution_count": 3,
   "metadata": {
    "collapsed": true
   },
   "outputs": [],
   "source": [
    "Data_train.columns = list(range(1, 401)) + ['alpha']"
   ]
  },
  {
   "cell_type": "code",
   "execution_count": 4,
   "metadata": {},
   "outputs": [
    {
     "data": {
      "text/html": [
       "<div>\n",
       "<style>\n",
       "    .dataframe thead tr:only-child th {\n",
       "        text-align: right;\n",
       "    }\n",
       "\n",
       "    .dataframe thead th {\n",
       "        text-align: left;\n",
       "    }\n",
       "\n",
       "    .dataframe tbody tr th {\n",
       "        vertical-align: top;\n",
       "    }\n",
       "</style>\n",
       "<table border=\"1\" class=\"dataframe\">\n",
       "  <thead>\n",
       "    <tr style=\"text-align: right;\">\n",
       "      <th></th>\n",
       "      <th>1</th>\n",
       "      <th>2</th>\n",
       "      <th>3</th>\n",
       "      <th>4</th>\n",
       "      <th>5</th>\n",
       "      <th>6</th>\n",
       "      <th>7</th>\n",
       "      <th>8</th>\n",
       "      <th>9</th>\n",
       "      <th>10</th>\n",
       "      <th>...</th>\n",
       "      <th>392</th>\n",
       "      <th>393</th>\n",
       "      <th>394</th>\n",
       "      <th>395</th>\n",
       "      <th>396</th>\n",
       "      <th>397</th>\n",
       "      <th>398</th>\n",
       "      <th>399</th>\n",
       "      <th>400</th>\n",
       "      <th>alpha</th>\n",
       "    </tr>\n",
       "  </thead>\n",
       "  <tbody>\n",
       "    <tr>\n",
       "      <th>0</th>\n",
       "      <td>0</td>\n",
       "      <td>1</td>\n",
       "      <td>0</td>\n",
       "      <td>0</td>\n",
       "      <td>0</td>\n",
       "      <td>1</td>\n",
       "      <td>0</td>\n",
       "      <td>0</td>\n",
       "      <td>0</td>\n",
       "      <td>0</td>\n",
       "      <td>...</td>\n",
       "      <td>0</td>\n",
       "      <td>0</td>\n",
       "      <td>0</td>\n",
       "      <td>0</td>\n",
       "      <td>0</td>\n",
       "      <td>1</td>\n",
       "      <td>0</td>\n",
       "      <td>1</td>\n",
       "      <td>0</td>\n",
       "      <td>0.10000</td>\n",
       "    </tr>\n",
       "    <tr>\n",
       "      <th>1</th>\n",
       "      <td>0</td>\n",
       "      <td>0</td>\n",
       "      <td>0</td>\n",
       "      <td>0</td>\n",
       "      <td>0</td>\n",
       "      <td>0</td>\n",
       "      <td>0</td>\n",
       "      <td>0</td>\n",
       "      <td>0</td>\n",
       "      <td>0</td>\n",
       "      <td>...</td>\n",
       "      <td>0</td>\n",
       "      <td>1</td>\n",
       "      <td>0</td>\n",
       "      <td>0</td>\n",
       "      <td>0</td>\n",
       "      <td>0</td>\n",
       "      <td>0</td>\n",
       "      <td>0</td>\n",
       "      <td>0</td>\n",
       "      <td>0.10009</td>\n",
       "    </tr>\n",
       "    <tr>\n",
       "      <th>2</th>\n",
       "      <td>0</td>\n",
       "      <td>0</td>\n",
       "      <td>0</td>\n",
       "      <td>0</td>\n",
       "      <td>0</td>\n",
       "      <td>0</td>\n",
       "      <td>0</td>\n",
       "      <td>0</td>\n",
       "      <td>0</td>\n",
       "      <td>1</td>\n",
       "      <td>...</td>\n",
       "      <td>0</td>\n",
       "      <td>0</td>\n",
       "      <td>0</td>\n",
       "      <td>0</td>\n",
       "      <td>1</td>\n",
       "      <td>0</td>\n",
       "      <td>0</td>\n",
       "      <td>0</td>\n",
       "      <td>0</td>\n",
       "      <td>0.10018</td>\n",
       "    </tr>\n",
       "    <tr>\n",
       "      <th>3</th>\n",
       "      <td>0</td>\n",
       "      <td>0</td>\n",
       "      <td>1</td>\n",
       "      <td>0</td>\n",
       "      <td>0</td>\n",
       "      <td>0</td>\n",
       "      <td>0</td>\n",
       "      <td>1</td>\n",
       "      <td>0</td>\n",
       "      <td>0</td>\n",
       "      <td>...</td>\n",
       "      <td>0</td>\n",
       "      <td>0</td>\n",
       "      <td>0</td>\n",
       "      <td>0</td>\n",
       "      <td>1</td>\n",
       "      <td>0</td>\n",
       "      <td>0</td>\n",
       "      <td>0</td>\n",
       "      <td>0</td>\n",
       "      <td>0.10027</td>\n",
       "    </tr>\n",
       "    <tr>\n",
       "      <th>4</th>\n",
       "      <td>0</td>\n",
       "      <td>0</td>\n",
       "      <td>0</td>\n",
       "      <td>0</td>\n",
       "      <td>0</td>\n",
       "      <td>0</td>\n",
       "      <td>0</td>\n",
       "      <td>0</td>\n",
       "      <td>0</td>\n",
       "      <td>0</td>\n",
       "      <td>...</td>\n",
       "      <td>0</td>\n",
       "      <td>0</td>\n",
       "      <td>0</td>\n",
       "      <td>0</td>\n",
       "      <td>0</td>\n",
       "      <td>0</td>\n",
       "      <td>0</td>\n",
       "      <td>0</td>\n",
       "      <td>0</td>\n",
       "      <td>0.10036</td>\n",
       "    </tr>\n",
       "  </tbody>\n",
       "</table>\n",
       "<p>5 rows × 401 columns</p>\n",
       "</div>"
      ],
      "text/plain": [
       "   1  2  3  4  5  6  7  8  9  10   ...     392  393  394  395  396  397  398  \\\n",
       "0  0  1  0  0  0  1  0  0  0   0   ...       0    0    0    0    0    1    0   \n",
       "1  0  0  0  0  0  0  0  0  0   0   ...       0    1    0    0    0    0    0   \n",
       "2  0  0  0  0  0  0  0  0  0   1   ...       0    0    0    0    1    0    0   \n",
       "3  0  0  1  0  0  0  0  1  0   0   ...       0    0    0    0    1    0    0   \n",
       "4  0  0  0  0  0  0  0  0  0   0   ...       0    0    0    0    0    0    0   \n",
       "\n",
       "   399  400    alpha  \n",
       "0    1    0  0.10000  \n",
       "1    0    0  0.10009  \n",
       "2    0    0  0.10018  \n",
       "3    0    0  0.10027  \n",
       "4    0    0  0.10036  \n",
       "\n",
       "[5 rows x 401 columns]"
      ]
     },
     "execution_count": 4,
     "metadata": {},
     "output_type": "execute_result"
    }
   ],
   "source": [
    "Data_train.head()"
   ]
  },
  {
   "cell_type": "code",
   "execution_count": 5,
   "metadata": {},
   "outputs": [
    {
     "data": {
      "text/plain": [
       "(10000, 401)"
      ]
     },
     "execution_count": 5,
     "metadata": {},
     "output_type": "execute_result"
    }
   ],
   "source": [
    "Data_train.shape"
   ]
  },
  {
   "cell_type": "code",
   "execution_count": 6,
   "metadata": {},
   "outputs": [
    {
     "data": {
      "text/plain": [
       "(10000, 400)"
      ]
     },
     "execution_count": 6,
     "metadata": {},
     "output_type": "execute_result"
    }
   ],
   "source": [
    "X_train = Data_train.iloc[:, :-1]\n",
    "X_train.shape"
   ]
  },
  {
   "cell_type": "code",
   "execution_count": 7,
   "metadata": {
    "scrolled": true
   },
   "outputs": [
    {
     "data": {
      "image/png": "[encoded data removed]",
      "text/plain": [
       "<matplotlib.figure.Figure at 0x1122fa208>"
      ]
     },
     "metadata": {},
     "output_type": "display_data"
    }
   ],
   "source": [
    "# 中身を10枚見てみる\n",
    "fig, ax = plt.subplots(nrows=5, ncols=2, figsize=(10, 20))\n",
    "for idx_ax, idx_x in zip(itertools.product(list(range(0, 5)), [0, 1]),\n",
    "                          np.random.permutation(Data_train.index)[:10]):\n",
    "    ax[idx_ax[0], idx_ax[1]].imshow(Data_train.iloc[idx_x, :-1].values.reshape(20, 20), cmap=plt.cm.gray_r)\n",
    "    ax[idx_ax[0], idx_ax[1]].set_xticks([])\n",
    "    ax[idx_ax[0], idx_ax[1]].set_yticks([])\n",
    "    ax[idx_ax[0], idx_ax[1]].set_title(r'$\\alpha = {:.5}$'.format((Data_train.iloc[idx_x, -1])))"
   ]
  },
  {
   "cell_type": "markdown",
   "metadata": {},
   "source": [
    "## $\\alpha < \\alpha_c = 0.5$ にデータにラベル0, $\\alpha \\geq \\alpha_c = 0.5$にラベル1をふる"
   ]
  },
  {
   "cell_type": "code",
   "execution_count": 28,
   "metadata": {},
   "outputs": [
    {
     "data": {
      "text/plain": [
       "array([ 0.1    ,  0.10009,  0.10018, ...,  0.99973,  0.99982,  0.99991])"
      ]
     },
     "execution_count": 28,
     "metadata": {},
     "output_type": "execute_result"
    }
   ],
   "source": [
    "# 取りうるalphaの値\n",
    "np.unique(Data_train.iloc[:, -1])"
   ]
  },
  {
   "cell_type": "code",
   "execution_count": 8,
   "metadata": {
    "collapsed": true
   },
   "outputs": [],
   "source": [
    "alpha_c = 0.5\n",
    "y_train = pd.Series([0 if alpha < alpha_c else 1 for alpha in Data_train.iloc[:, -1]]).ravel()"
   ]
  },
  {
   "cell_type": "code",
   "execution_count": 30,
   "metadata": {},
   "outputs": [
    {
     "data": {
      "text/plain": [
       "array([4445, 5555])"
      ]
     },
     "execution_count": 30,
     "metadata": {},
     "output_type": "execute_result"
    }
   ],
   "source": [
    "np.bincount(y_train)"
   ]
  },
  {
   "cell_type": "code",
   "execution_count": 31,
   "metadata": {},
   "outputs": [
    {
     "data": {
      "text/plain": [
       "array([0, 1])"
      ]
     },
     "execution_count": 31,
     "metadata": {},
     "output_type": "execute_result"
    }
   ],
   "source": [
    "np.unique(y_train)"
   ]
  },
  {
   "cell_type": "markdown",
   "metadata": {},
   "source": [
    "# テストデータを読み込む"
   ]
  },
  {
   "cell_type": "code",
   "execution_count": 9,
   "metadata": {},
   "outputs": [
    {
     "data": {
      "text/plain": [
       "(3000, 401)"
      ]
     },
     "execution_count": 9,
     "metadata": {},
     "output_type": "execute_result"
    }
   ],
   "source": [
    "# テストデータを読み込む\n",
    "Data_test = pd.read_csv('./trafic_data/trafic_data_alpha-test.csv', header=None)\n",
    "Data_test.shape"
   ]
  },
  {
   "cell_type": "code",
   "execution_count": 10,
   "metadata": {},
   "outputs": [
    {
     "data": {
      "text/plain": [
       "(3000, 400)"
      ]
     },
     "execution_count": 10,
     "metadata": {},
     "output_type": "execute_result"
    }
   ],
   "source": [
    "X_test = Data_test.iloc[:,:-1]\n",
    "X_test.shape"
   ]
  },
  {
   "cell_type": "code",
   "execution_count": 11,
   "metadata": {
    "collapsed": true
   },
   "outputs": [],
   "source": [
    "Data_test.columns = list(range(1, 401)) + ['alpha']"
   ]
  },
  {
   "cell_type": "code",
   "execution_count": 12,
   "metadata": {},
   "outputs": [
    {
     "data": {
      "text/html": [
       "<div>\n",
       "<style>\n",
       "    .dataframe thead tr:only-child th {\n",
       "        text-align: right;\n",
       "    }\n",
       "\n",
       "    .dataframe thead th {\n",
       "        text-align: left;\n",
       "    }\n",
       "\n",
       "    .dataframe tbody tr th {\n",
       "        vertical-align: top;\n",
       "    }\n",
       "</style>\n",
       "<table border=\"1\" class=\"dataframe\">\n",
       "  <thead>\n",
       "    <tr style=\"text-align: right;\">\n",
       "      <th></th>\n",
       "      <th>1</th>\n",
       "      <th>2</th>\n",
       "      <th>3</th>\n",
       "      <th>4</th>\n",
       "      <th>5</th>\n",
       "      <th>6</th>\n",
       "      <th>7</th>\n",
       "      <th>8</th>\n",
       "      <th>9</th>\n",
       "      <th>10</th>\n",
       "      <th>...</th>\n",
       "      <th>392</th>\n",
       "      <th>393</th>\n",
       "      <th>394</th>\n",
       "      <th>395</th>\n",
       "      <th>396</th>\n",
       "      <th>397</th>\n",
       "      <th>398</th>\n",
       "      <th>399</th>\n",
       "      <th>400</th>\n",
       "      <th>alpha</th>\n",
       "    </tr>\n",
       "  </thead>\n",
       "  <tbody>\n",
       "    <tr>\n",
       "      <th>0</th>\n",
       "      <td>0</td>\n",
       "      <td>1</td>\n",
       "      <td>0</td>\n",
       "      <td>0</td>\n",
       "      <td>0</td>\n",
       "      <td>1</td>\n",
       "      <td>0</td>\n",
       "      <td>0</td>\n",
       "      <td>0</td>\n",
       "      <td>0</td>\n",
       "      <td>...</td>\n",
       "      <td>0</td>\n",
       "      <td>0</td>\n",
       "      <td>0</td>\n",
       "      <td>0</td>\n",
       "      <td>0</td>\n",
       "      <td>1</td>\n",
       "      <td>0</td>\n",
       "      <td>1</td>\n",
       "      <td>0</td>\n",
       "      <td>0.1</td>\n",
       "    </tr>\n",
       "    <tr>\n",
       "      <th>1</th>\n",
       "      <td>0</td>\n",
       "      <td>0</td>\n",
       "      <td>0</td>\n",
       "      <td>0</td>\n",
       "      <td>0</td>\n",
       "      <td>0</td>\n",
       "      <td>0</td>\n",
       "      <td>0</td>\n",
       "      <td>0</td>\n",
       "      <td>0</td>\n",
       "      <td>...</td>\n",
       "      <td>0</td>\n",
       "      <td>1</td>\n",
       "      <td>0</td>\n",
       "      <td>0</td>\n",
       "      <td>0</td>\n",
       "      <td>0</td>\n",
       "      <td>0</td>\n",
       "      <td>0</td>\n",
       "      <td>0</td>\n",
       "      <td>0.1</td>\n",
       "    </tr>\n",
       "    <tr>\n",
       "      <th>2</th>\n",
       "      <td>0</td>\n",
       "      <td>0</td>\n",
       "      <td>0</td>\n",
       "      <td>0</td>\n",
       "      <td>0</td>\n",
       "      <td>0</td>\n",
       "      <td>0</td>\n",
       "      <td>0</td>\n",
       "      <td>0</td>\n",
       "      <td>1</td>\n",
       "      <td>...</td>\n",
       "      <td>0</td>\n",
       "      <td>0</td>\n",
       "      <td>0</td>\n",
       "      <td>0</td>\n",
       "      <td>1</td>\n",
       "      <td>0</td>\n",
       "      <td>0</td>\n",
       "      <td>0</td>\n",
       "      <td>0</td>\n",
       "      <td>0.1</td>\n",
       "    </tr>\n",
       "    <tr>\n",
       "      <th>3</th>\n",
       "      <td>0</td>\n",
       "      <td>0</td>\n",
       "      <td>0</td>\n",
       "      <td>0</td>\n",
       "      <td>0</td>\n",
       "      <td>0</td>\n",
       "      <td>0</td>\n",
       "      <td>0</td>\n",
       "      <td>0</td>\n",
       "      <td>0</td>\n",
       "      <td>...</td>\n",
       "      <td>0</td>\n",
       "      <td>0</td>\n",
       "      <td>0</td>\n",
       "      <td>0</td>\n",
       "      <td>0</td>\n",
       "      <td>0</td>\n",
       "      <td>0</td>\n",
       "      <td>0</td>\n",
       "      <td>0</td>\n",
       "      <td>0.1</td>\n",
       "    </tr>\n",
       "    <tr>\n",
       "      <th>4</th>\n",
       "      <td>0</td>\n",
       "      <td>1</td>\n",
       "      <td>0</td>\n",
       "      <td>0</td>\n",
       "      <td>0</td>\n",
       "      <td>0</td>\n",
       "      <td>0</td>\n",
       "      <td>0</td>\n",
       "      <td>0</td>\n",
       "      <td>0</td>\n",
       "      <td>...</td>\n",
       "      <td>0</td>\n",
       "      <td>0</td>\n",
       "      <td>0</td>\n",
       "      <td>0</td>\n",
       "      <td>0</td>\n",
       "      <td>0</td>\n",
       "      <td>1</td>\n",
       "      <td>0</td>\n",
       "      <td>0</td>\n",
       "      <td>0.1</td>\n",
       "    </tr>\n",
       "  </tbody>\n",
       "</table>\n",
       "<p>5 rows × 401 columns</p>\n",
       "</div>"
      ],
      "text/plain": [
       "   1  2  3  4  5  6  7  8  9  10  ...    392  393  394  395  396  397  398  \\\n",
       "0  0  1  0  0  0  1  0  0  0   0  ...      0    0    0    0    0    1    0   \n",
       "1  0  0  0  0  0  0  0  0  0   0  ...      0    1    0    0    0    0    0   \n",
       "2  0  0  0  0  0  0  0  0  0   1  ...      0    0    0    0    1    0    0   \n",
       "3  0  0  0  0  0  0  0  0  0   0  ...      0    0    0    0    0    0    0   \n",
       "4  0  1  0  0  0  0  0  0  0   0  ...      0    0    0    0    0    0    1   \n",
       "\n",
       "   399  400  alpha  \n",
       "0    1    0    0.1  \n",
       "1    0    0    0.1  \n",
       "2    0    0    0.1  \n",
       "3    0    0    0.1  \n",
       "4    0    0    0.1  \n",
       "\n",
       "[5 rows x 401 columns]"
      ]
     },
     "execution_count": 12,
     "metadata": {},
     "output_type": "execute_result"
    }
   ],
   "source": [
    "Data_test.head()"
   ]
  },
  {
   "cell_type": "markdown",
   "metadata": {},
   "source": [
    "## $\\alpha < \\alpha_c = 0.5$ にデータにラベル0, $\\alpha \\geq \\alpha_c = 0.5$にラベル1をふる"
   ]
  },
  {
   "cell_type": "code",
   "execution_count": 35,
   "metadata": {},
   "outputs": [
    {
     "data": {
      "text/plain": [
       "array([ 0.1  ,  0.115,  0.13 ,  0.145,  0.16 ,  0.175,  0.19 ,  0.205,\n",
       "        0.22 ,  0.235,  0.25 ,  0.265,  0.28 ,  0.295,  0.31 ,  0.325,\n",
       "        0.34 ,  0.355,  0.37 ,  0.385,  0.4  ,  0.415,  0.43 ,  0.445,\n",
       "        0.46 ,  0.475,  0.49 ,  0.505,  0.52 ,  0.535,  0.55 ,  0.565,\n",
       "        0.58 ,  0.595,  0.61 ,  0.625,  0.64 ,  0.655,  0.67 ,  0.685,\n",
       "        0.7  ,  0.715,  0.73 ,  0.745,  0.76 ,  0.775,  0.79 ,  0.805,\n",
       "        0.82 ,  0.835,  0.85 ,  0.865,  0.88 ,  0.895,  0.91 ,  0.925,\n",
       "        0.94 ,  0.955,  0.97 ,  0.985])"
      ]
     },
     "execution_count": 35,
     "metadata": {},
     "output_type": "execute_result"
    }
   ],
   "source": [
    "# 取りうるalphaの値\n",
    "np.unique(Data_test.iloc[:, -1])"
   ]
  },
  {
   "cell_type": "code",
   "execution_count": 13,
   "metadata": {
    "collapsed": true
   },
   "outputs": [],
   "source": [
    "y_test = pd.Series([0 if alpha < alpha_c else 1 for alpha in Data_test.iloc[:, -1]]).ravel()"
   ]
  },
  {
   "cell_type": "code",
   "execution_count": 14,
   "metadata": {},
   "outputs": [
    {
     "data": {
      "text/plain": [
       "array([1350, 1650])"
      ]
     },
     "execution_count": 14,
     "metadata": {},
     "output_type": "execute_result"
    }
   ],
   "source": [
    "np.bincount(y_test)"
   ]
  },
  {
   "cell_type": "code",
   "execution_count": 38,
   "metadata": {},
   "outputs": [
    {
     "data": {
      "text/plain": [
       "array([0, 1])"
      ]
     },
     "execution_count": 38,
     "metadata": {},
     "output_type": "execute_result"
    }
   ],
   "source": [
    "np.unique(y_test)"
   ]
  },
  {
   "cell_type": "markdown",
   "metadata": {},
   "source": [
    "# MLP で識別"
   ]
  },
  {
   "cell_type": "code",
   "execution_count": 15,
   "metadata": {
    "collapsed": true
   },
   "outputs": [],
   "source": [
    "from sklearn.neural_network import MLPClassifier"
   ]
  },
  {
   "cell_type": "markdown",
   "metadata": {},
   "source": [
    "## 隠れそう1層　隠れ素子100"
   ]
  },
  {
   "cell_type": "code",
   "execution_count": 16,
   "metadata": {
    "collapsed": true
   },
   "outputs": [],
   "source": [
    "mlp_100 = MLPClassifier(hidden_layer_sizes=(100,), activation='relu',\n",
    "                       alpha=0.0001, random_state=0)\n",
    "# alpha: 正則化係数　大きいほど正則かが強く働く\n",
    "# random_state=0"
   ]
  },
  {
   "cell_type": "code",
   "execution_count": 47,
   "metadata": {},
   "outputs": [
    {
     "name": "stdout",
     "output_type": "stream",
     "text": [
      "CPU times: user 17.6 s, sys: 734 ms, total: 18.3 s\n",
      "Wall time: 9.23 s\n"
     ]
    },
    {
     "data": {
      "text/plain": [
       "MLPClassifier(activation='relu', alpha=0.0001, batch_size='auto', beta_1=0.9,\n",
       "       beta_2=0.999, early_stopping=False, epsilon=1e-08,\n",
       "       hidden_layer_sizes=(100,), learning_rate='constant',\n",
       "       learning_rate_init=0.001, max_iter=200, momentum=0.9,\n",
       "       nesterovs_momentum=True, power_t=0.5, random_state=0, shuffle=True,\n",
       "       solver='adam', tol=0.0001, validation_fraction=0.1, verbose=False,\n",
       "       warm_start=False)"
      ]
     },
     "execution_count": 47,
     "metadata": {},
     "output_type": "execute_result"
    }
   ],
   "source": [
    "%%time\n",
    " mlp_100.fit(X_train, y_train)"
   ]
  },
  {
   "cell_type": "code",
   "execution_count": 48,
   "metadata": {},
   "outputs": [
    {
     "data": {
      "text/plain": [
       "0.8736666666666667"
      ]
     },
     "execution_count": 48,
     "metadata": {},
     "output_type": "execute_result"
    }
   ],
   "source": [
    "mlp_100.score(X_test, y_test)"
   ]
  },
  {
   "cell_type": "code",
   "execution_count": 57,
   "metadata": {
    "collapsed": true
   },
   "outputs": [],
   "source": [
    "accuracy_100 = []\n",
    "alphas=np.unique(Data_test.iloc[:, -1])\n",
    "for alpha in alphas:\n",
    "    accuracy_100.append(mlp_100.score(Data_test.values[Data_test.loc[:, 'alpha']==alpha, :-1], \n",
    "                             y_test.ravel()[Data_test.loc[:, 'alpha']==alpha]))"
   ]
  },
  {
   "cell_type": "code",
   "execution_count": 58,
   "metadata": {},
   "outputs": [
    {
     "data": {
      "text/plain": [
       "<matplotlib.legend.Legend at 0x10ed82390>"
      ]
     },
     "execution_count": 58,
     "metadata": {},
     "output_type": "execute_result"
    },
    {
     "data": {
      "image/png": "[encoded data removed]",
      "text/plain": [
       "<matplotlib.figure.Figure at 0x10ed9e9b0>"
      ]
     },
     "metadata": {},
     "output_type": "display_data"
    }
   ],
   "source": [
    "plt.figure(figsize=(7, 5))\n",
    "plt.plot(alphas, accuracy_100, marker='o')\n",
    "plt.axvline(x=alpha_c, c=plt.cm.tab10(1), label=r'$\\alpha_c$')\n",
    "plt.xlim(alphas.min(), alphas.max())\n",
    "plt.ylim(0.0, 1.0)\n",
    "plt.xlabel(r'$\\alpha$', fontsize=13)\n",
    "plt.ylabel('accuracy', fontsize=13)\n",
    "plt.legend(bbox_to_anchor=(1.05, 1.0),loc='upper left',\n",
    "           borderaxespad=0, fontsize=13)"
   ]
  },
  {
   "cell_type": "code",
   "execution_count": 127,
   "metadata": {},
   "outputs": [
    {
     "data": {
      "text/plain": [
       "<matplotlib.legend.Legend at 0x10aa804e0>"
      ]
     },
     "execution_count": 127,
     "metadata": {},
     "output_type": "execute_result"
    },
    {
     "data": {
      "image/png": "[encoded data removed]",
      "text/plain": [
       "<matplotlib.figure.Figure at 0x10a9fffd0>"
      ]
     },
     "metadata": {},
     "output_type": "display_data"
    }
   ],
   "source": [
    "probabilities_0 = []\n",
    "\n",
    "for alpha in alphas:\n",
    "    probabilities_0.append(mlp_100.predict_proba(Data_test.values[Data_test.loc[:, 'alpha']==alpha, :-1])[:, 0].mean())\n",
    "probabilities_0 = np.array(probabilities_0)\n",
    "\n",
    "probabilities_1 = []\n",
    "\n",
    "for alpha in alphas:\n",
    "    probabilities_1.append(mlp_100.predict_proba(Data_test.values[Data_test.loc[:, 'alpha']==alpha, :-1])[:, 1].mean())\n",
    "probabilities_1 = np.array(probabilities_1)\n",
    "\n",
    "fig, ax = plt.subplots(1,1,figsize=(7, 5))\n",
    "ax.plot(alphas, probabilities_0*100, marker='o', c='b')\n",
    "ax.plot(alphas, probabilities_1*100, marker='x', c='r')\n",
    "ax.axvline(x=alpha_c, c=plt.cm.tab10(1), label=r'$\\alpha_c$')\n",
    "ax.set_xlim(alphas.min(), alphas.max())\n",
    "ax.set_ylim(0, 100)\n",
    "ax.set_xlabel(r'$\\alpha$', fontsize=13)\n",
    "ax.set_ylabel('accuracy', fontsize=13)\n",
    "ax.set_yticks([i*10 for i in range(11)])\n",
    "ax.legend(bbox_to_anchor=(1.05, 1.0),loc='upper left',\n",
    "          borderaxespad=0, fontsize=13)"
   ]
  },
  {
   "cell_type": "markdown",
   "metadata": {},
   "source": [
    "## 隠れそう1層　隠れ素子３"
   ]
  },
  {
   "cell_type": "code",
   "execution_count": 17,
   "metadata": {
    "collapsed": true
   },
   "outputs": [],
   "source": [
    "mlp_3 = MLPClassifier(hidden_layer_sizes=(3,), activation='relu',\n",
    "                       alpha=0.0001, random_state=0)# alpha: 正則化係数　大きいほど正則かが強く働く"
   ]
  },
  {
   "cell_type": "code",
   "execution_count": 63,
   "metadata": {},
   "outputs": [
    {
     "name": "stdout",
     "output_type": "stream",
     "text": [
      "CPU times: user 7.78 s, sys: 732 ms, total: 8.51 s\n",
      "Wall time: 4.3 s\n"
     ]
    },
    {
     "data": {
      "text/plain": [
       "MLPClassifier(activation='relu', alpha=0.0001, batch_size='auto', beta_1=0.9,\n",
       "       beta_2=0.999, early_stopping=False, epsilon=1e-08,\n",
       "       hidden_layer_sizes=(3,), learning_rate='constant',\n",
       "       learning_rate_init=0.001, max_iter=200, momentum=0.9,\n",
       "       nesterovs_momentum=True, power_t=0.5, random_state=0, shuffle=True,\n",
       "       solver='adam', tol=0.0001, validation_fraction=0.1, verbose=False,\n",
       "       warm_start=False)"
      ]
     },
     "execution_count": 63,
     "metadata": {},
     "output_type": "execute_result"
    }
   ],
   "source": [
    "%%time\n",
    "mlp_3.fit(X_train, y_train)"
   ]
  },
  {
   "cell_type": "code",
   "execution_count": 64,
   "metadata": {},
   "outputs": [
    {
     "data": {
      "text/plain": [
       "0.88500000000000001"
      ]
     },
     "execution_count": 64,
     "metadata": {},
     "output_type": "execute_result"
    }
   ],
   "source": [
    "mlp_3.score(X_test, y_test)"
   ]
  },
  {
   "cell_type": "markdown",
   "metadata": {},
   "source": [
    "### mlp_3に対してGrifdSearch を行う (alphaについてのみ)"
   ]
  },
  {
   "cell_type": "code",
   "execution_count": 18,
   "metadata": {
    "collapsed": true
   },
   "outputs": [],
   "source": [
    "from sklearn.model_selection import GridSearchCV"
   ]
  },
  {
   "cell_type": "code",
   "execution_count": 19,
   "metadata": {},
   "outputs": [
    {
     "data": {
      "text/plain": [
       "[0.001, 0.01, 0.1, 1, 10, 100]"
      ]
     },
     "execution_count": 19,
     "metadata": {},
     "output_type": "execute_result"
    }
   ],
   "source": [
    "alphas = [10**(i) for i in range(-3, 3)]\n",
    "alphas"
   ]
  },
  {
   "cell_type": "code",
   "execution_count": 20,
   "metadata": {},
   "outputs": [
    {
     "data": {
      "text/plain": [
       "{'alpha': [0.001, 0.01, 0.1, 1, 10, 100]}"
      ]
     },
     "execution_count": 20,
     "metadata": {},
     "output_type": "execute_result"
    }
   ],
   "source": [
    "param_grid={'alpha' : alphas}\n",
    "param_grid"
   ]
  },
  {
   "cell_type": "code",
   "execution_count": 21,
   "metadata": {
    "collapsed": true
   },
   "outputs": [],
   "source": [
    "gs_3 = GridSearchCV(estimator=mlp_3, param_grid=param_grid, \n",
    "                 cv=5, n_jobs=-1, verbose=2)"
   ]
  },
  {
   "cell_type": "code",
   "execution_count": 22,
   "metadata": {
    "scrolled": true
   },
   "outputs": [
    {
     "name": "stdout",
     "output_type": "stream",
     "text": [
      "Fitting 5 folds for each of 6 candidates, totalling 30 fits\n",
      "[CV] alpha=0.001 .....................................................\n",
      "[CV] alpha=0.001 .....................................................\n",
      "[CV] alpha=0.001 .....................................................\n",
      "[CV] alpha=0.001 .....................................................\n",
      "[CV] ...................................... alpha=0.001, total=   6.0s\n",
      "[CV] alpha=0.001 .....................................................\n",
      "[CV] ...................................... alpha=0.001, total=   7.0s\n",
      "[CV] alpha=0.01 ......................................................\n",
      "[CV] ...................................... alpha=0.001, total=   7.2s\n",
      "[CV] alpha=0.01 ......................................................\n",
      "[CV] ...................................... alpha=0.001, total=  11.0s\n",
      "[CV] alpha=0.01 ......................................................\n",
      "[CV] ....................................... alpha=0.01, total=   6.9s\n",
      "[CV] alpha=0.01 ......................................................\n",
      "[CV] ...................................... alpha=0.001, total=   8.3s\n",
      "[CV] alpha=0.01 ......................................................\n",
      "[CV] ....................................... alpha=0.01, total=   6.2s\n",
      "[CV] alpha=0.1 .......................................................\n",
      "[CV] ....................................... alpha=0.01, total=  10.7s\n",
      "[CV] alpha=0.1 .......................................................\n",
      "[CV] ....................................... alpha=0.01, total=   7.3s\n",
      "[CV] alpha=0.1 .......................................................\n",
      "[CV] ....................................... alpha=0.01, total=   8.3s\n",
      "[CV] alpha=0.1 .......................................................\n",
      "[CV] ........................................ alpha=0.1, total=   7.0s\n",
      "[CV] alpha=0.1 .......................................................\n",
      "[CV] ........................................ alpha=0.1, total=   8.3s\n",
      "[CV] alpha=1 .........................................................\n",
      "[CV] ........................................ alpha=0.1, total=   7.0s\n",
      "[CV] alpha=1 .........................................................\n",
      "[CV] ........................................ alpha=0.1, total=   7.1s\n",
      "[CV] alpha=1 .........................................................\n",
      "[CV] ........................................ alpha=0.1, total=   8.2s\n",
      "[CV] alpha=1 .........................................................\n",
      "[CV] .......................................... alpha=1, total=   6.9s\n",
      "[CV] alpha=1 .........................................................\n",
      "[CV] .......................................... alpha=1, total=   6.1s\n",
      "[CV] alpha=10 ........................................................\n",
      "[CV] .......................................... alpha=1, total=   8.9s\n",
      "[CV] alpha=10 ........................................................\n",
      "[CV] .......................................... alpha=1, total=   8.2s\n",
      "[CV] alpha=10 ........................................................\n",
      "[CV] .......................................... alpha=1, total=   8.1s\n",
      "[CV] alpha=10 ........................................................\n",
      "[CV] ......................................... alpha=10, total=   7.1s\n",
      "[CV] alpha=10 ........................................................\n",
      "[CV] ......................................... alpha=10, total=   9.3s\n",
      "[CV] alpha=100 .......................................................\n",
      "[CV] ......................................... alpha=10, total=   8.1s\n",
      "[CV] alpha=100 .......................................................\n",
      "[CV] ......................................... alpha=10, total=   9.8s\n",
      "[CV] alpha=100 .......................................................\n",
      "[CV] ........................................ alpha=100, total=   4.5s\n",
      "[CV] alpha=100 .......................................................\n",
      "[CV] ......................................... alpha=10, total=   8.4s\n",
      "[CV] alpha=100 .......................................................\n",
      "[CV] ........................................ alpha=100, total=   4.7s\n",
      "[CV] ........................................ alpha=100, total=   4.2s\n",
      "[CV] ........................................ alpha=100, total=   5.0s\n",
      "[CV] ........................................ alpha=100, total=   4.4s\n"
     ]
    },
    {
     "name": "stderr",
     "output_type": "stream",
     "text": [
      "[Parallel(n_jobs=-1)]: Done  30 out of  30 | elapsed:   56.2s finished\n"
     ]
    },
    {
     "data": {
      "text/plain": [
       "GridSearchCV(cv=5, error_score='raise',\n",
       "       estimator=MLPClassifier(activation='relu', alpha=0.0001, batch_size='auto', beta_1=0.9,\n",
       "       beta_2=0.999, early_stopping=False, epsilon=1e-08,\n",
       "       hidden_layer_sizes=(3,), learning_rate='constant',\n",
       "       learning_rate_init=0.001, max_iter=200, momentum=0.9,\n",
       "       nesterovs_momentum=True, power_t=0.5, random_state=0, shuffle=True,\n",
       "       solver='adam', tol=0.0001, validation_fraction=0.1, verbose=False,\n",
       "       warm_start=False),\n",
       "       fit_params=None, iid=True, n_jobs=-1,\n",
       "       param_grid={'alpha': [0.001, 0.01, 0.1, 1, 10, 100]},\n",
       "       pre_dispatch='2*n_jobs', refit=True, return_train_score='warn',\n",
       "       scoring=None, verbose=2)"
      ]
     },
     "execution_count": 22,
     "metadata": {},
     "output_type": "execute_result"
    }
   ],
   "source": [
    "gs_3.fit(X_train, y_train)"
   ]
  },
  {
   "cell_type": "code",
   "execution_count": 23,
   "metadata": {},
   "outputs": [
    {
     "data": {
      "text/plain": [
       "0.86119999999999997"
      ]
     },
     "execution_count": 23,
     "metadata": {},
     "output_type": "execute_result"
    }
   ],
   "source": [
    "gs_3.best_score_"
   ]
  },
  {
   "cell_type": "code",
   "execution_count": 24,
   "metadata": {},
   "outputs": [
    {
     "data": {
      "text/plain": [
       "{'alpha': 10}"
      ]
     },
     "execution_count": 24,
     "metadata": {},
     "output_type": "execute_result"
    }
   ],
   "source": [
    "gs_3.best_params_"
   ]
  },
  {
   "cell_type": "code",
   "execution_count": 25,
   "metadata": {},
   "outputs": [
    {
     "name": "stderr",
     "output_type": "stream",
     "text": [
      "/Users/yohei/.pyenv/versions/anaconda3-5.0.0/envs/tensorflow/lib/python3.5/site-packages/sklearn/utils/deprecation.py:122: FutureWarning: You are accessing a training score ('mean_train_score'), which will not be available by default any more in 0.21. If you need training scores, please set return_train_score=True\n",
      "  warnings.warn(*warn_args, **warn_kwargs)\n",
      "/Users/yohei/.pyenv/versions/anaconda3-5.0.0/envs/tensorflow/lib/python3.5/site-packages/sklearn/utils/deprecation.py:122: FutureWarning: You are accessing a training score ('split0_train_score'), which will not be available by default any more in 0.21. If you need training scores, please set return_train_score=True\n",
      "  warnings.warn(*warn_args, **warn_kwargs)\n",
      "/Users/yohei/.pyenv/versions/anaconda3-5.0.0/envs/tensorflow/lib/python3.5/site-packages/sklearn/utils/deprecation.py:122: FutureWarning: You are accessing a training score ('split1_train_score'), which will not be available by default any more in 0.21. If you need training scores, please set return_train_score=True\n",
      "  warnings.warn(*warn_args, **warn_kwargs)\n",
      "/Users/yohei/.pyenv/versions/anaconda3-5.0.0/envs/tensorflow/lib/python3.5/site-packages/sklearn/utils/deprecation.py:122: FutureWarning: You are accessing a training score ('split2_train_score'), which will not be available by default any more in 0.21. If you need training scores, please set return_train_score=True\n",
      "  warnings.warn(*warn_args, **warn_kwargs)\n",
      "/Users/yohei/.pyenv/versions/anaconda3-5.0.0/envs/tensorflow/lib/python3.5/site-packages/sklearn/utils/deprecation.py:122: FutureWarning: You are accessing a training score ('split3_train_score'), which will not be available by default any more in 0.21. If you need training scores, please set return_train_score=True\n",
      "  warnings.warn(*warn_args, **warn_kwargs)\n",
      "/Users/yohei/.pyenv/versions/anaconda3-5.0.0/envs/tensorflow/lib/python3.5/site-packages/sklearn/utils/deprecation.py:122: FutureWarning: You are accessing a training score ('split4_train_score'), which will not be available by default any more in 0.21. If you need training scores, please set return_train_score=True\n",
      "  warnings.warn(*warn_args, **warn_kwargs)\n",
      "/Users/yohei/.pyenv/versions/anaconda3-5.0.0/envs/tensorflow/lib/python3.5/site-packages/sklearn/utils/deprecation.py:122: FutureWarning: You are accessing a training score ('std_train_score'), which will not be available by default any more in 0.21. If you need training scores, please set return_train_score=True\n",
      "  warnings.warn(*warn_args, **warn_kwargs)\n"
     ]
    },
    {
     "data": {
      "text/html": [
       "<div>\n",
       "<style>\n",
       "    .dataframe thead tr:only-child th {\n",
       "        text-align: right;\n",
       "    }\n",
       "\n",
       "    .dataframe thead th {\n",
       "        text-align: left;\n",
       "    }\n",
       "\n",
       "    .dataframe tbody tr th {\n",
       "        vertical-align: top;\n",
       "    }\n",
       "</style>\n",
       "<table border=\"1\" class=\"dataframe\">\n",
       "  <thead>\n",
       "    <tr style=\"text-align: right;\">\n",
       "      <th></th>\n",
       "      <th>mean_fit_time</th>\n",
       "      <th>mean_score_time</th>\n",
       "      <th>mean_test_score</th>\n",
       "      <th>mean_train_score</th>\n",
       "      <th>param_alpha</th>\n",
       "      <th>params</th>\n",
       "      <th>rank_test_score</th>\n",
       "      <th>split0_test_score</th>\n",
       "      <th>split0_train_score</th>\n",
       "      <th>split1_test_score</th>\n",
       "      <th>...</th>\n",
       "      <th>split2_test_score</th>\n",
       "      <th>split2_train_score</th>\n",
       "      <th>split3_test_score</th>\n",
       "      <th>split3_train_score</th>\n",
       "      <th>split4_test_score</th>\n",
       "      <th>split4_train_score</th>\n",
       "      <th>std_fit_time</th>\n",
       "      <th>std_score_time</th>\n",
       "      <th>std_test_score</th>\n",
       "      <th>std_train_score</th>\n",
       "    </tr>\n",
       "  </thead>\n",
       "  <tbody>\n",
       "    <tr>\n",
       "      <th>0</th>\n",
       "      <td>7.879079</td>\n",
       "      <td>0.006968</td>\n",
       "      <td>0.8564</td>\n",
       "      <td>0.918025</td>\n",
       "      <td>0.001</td>\n",
       "      <td>{'alpha': 0.001}</td>\n",
       "      <td>5</td>\n",
       "      <td>0.8160</td>\n",
       "      <td>0.925000</td>\n",
       "      <td>0.9235</td>\n",
       "      <td>...</td>\n",
       "      <td>0.9460</td>\n",
       "      <td>0.894000</td>\n",
       "      <td>0.8675</td>\n",
       "      <td>0.911000</td>\n",
       "      <td>0.7290</td>\n",
       "      <td>0.949375</td>\n",
       "      <td>1.706821</td>\n",
       "      <td>0.001254</td>\n",
       "      <td>0.078124</td>\n",
       "      <td>0.018498</td>\n",
       "    </tr>\n",
       "    <tr>\n",
       "      <th>1</th>\n",
       "      <td>7.874148</td>\n",
       "      <td>0.004776</td>\n",
       "      <td>0.8574</td>\n",
       "      <td>0.917875</td>\n",
       "      <td>0.01</td>\n",
       "      <td>{'alpha': 0.01}</td>\n",
       "      <td>4</td>\n",
       "      <td>0.8160</td>\n",
       "      <td>0.924625</td>\n",
       "      <td>0.9250</td>\n",
       "      <td>...</td>\n",
       "      <td>0.9480</td>\n",
       "      <td>0.894125</td>\n",
       "      <td>0.8670</td>\n",
       "      <td>0.910125</td>\n",
       "      <td>0.7310</td>\n",
       "      <td>0.949750</td>\n",
       "      <td>1.549780</td>\n",
       "      <td>0.000169</td>\n",
       "      <td>0.078181</td>\n",
       "      <td>0.018636</td>\n",
       "    </tr>\n",
       "    <tr>\n",
       "      <th>2</th>\n",
       "      <td>7.526164</td>\n",
       "      <td>0.004981</td>\n",
       "      <td>0.8583</td>\n",
       "      <td>0.917225</td>\n",
       "      <td>0.1</td>\n",
       "      <td>{'alpha': 0.1}</td>\n",
       "      <td>2</td>\n",
       "      <td>0.8185</td>\n",
       "      <td>0.925500</td>\n",
       "      <td>0.9280</td>\n",
       "      <td>...</td>\n",
       "      <td>0.9450</td>\n",
       "      <td>0.893500</td>\n",
       "      <td>0.8690</td>\n",
       "      <td>0.911000</td>\n",
       "      <td>0.7310</td>\n",
       "      <td>0.949875</td>\n",
       "      <td>0.588237</td>\n",
       "      <td>0.000608</td>\n",
       "      <td>0.077819</td>\n",
       "      <td>0.019270</td>\n",
       "    </tr>\n",
       "    <tr>\n",
       "      <th>3</th>\n",
       "      <td>7.635732</td>\n",
       "      <td>0.005080</td>\n",
       "      <td>0.8582</td>\n",
       "      <td>0.914750</td>\n",
       "      <td>1</td>\n",
       "      <td>{'alpha': 1}</td>\n",
       "      <td>3</td>\n",
       "      <td>0.8160</td>\n",
       "      <td>0.925375</td>\n",
       "      <td>0.9290</td>\n",
       "      <td>...</td>\n",
       "      <td>0.9570</td>\n",
       "      <td>0.892125</td>\n",
       "      <td>0.8485</td>\n",
       "      <td>0.905500</td>\n",
       "      <td>0.7405</td>\n",
       "      <td>0.947250</td>\n",
       "      <td>1.024799</td>\n",
       "      <td>0.000442</td>\n",
       "      <td>0.078105</td>\n",
       "      <td>0.019458</td>\n",
       "    </tr>\n",
       "    <tr>\n",
       "      <th>4</th>\n",
       "      <td>8.548674</td>\n",
       "      <td>0.004697</td>\n",
       "      <td>0.8612</td>\n",
       "      <td>0.904500</td>\n",
       "      <td>10</td>\n",
       "      <td>{'alpha': 10}</td>\n",
       "      <td>1</td>\n",
       "      <td>0.8645</td>\n",
       "      <td>0.912750</td>\n",
       "      <td>0.9540</td>\n",
       "      <td>...</td>\n",
       "      <td>0.9605</td>\n",
       "      <td>0.886875</td>\n",
       "      <td>0.8440</td>\n",
       "      <td>0.898750</td>\n",
       "      <td>0.6830</td>\n",
       "      <td>0.932125</td>\n",
       "      <td>0.947673</td>\n",
       "      <td>0.000136</td>\n",
       "      <td>0.100533</td>\n",
       "      <td>0.016317</td>\n",
       "    </tr>\n",
       "    <tr>\n",
       "      <th>5</th>\n",
       "      <td>4.539968</td>\n",
       "      <td>0.004909</td>\n",
       "      <td>0.8376</td>\n",
       "      <td>0.847550</td>\n",
       "      <td>100</td>\n",
       "      <td>{'alpha': 100}</td>\n",
       "      <td>6</td>\n",
       "      <td>0.9710</td>\n",
       "      <td>0.831250</td>\n",
       "      <td>0.9765</td>\n",
       "      <td>...</td>\n",
       "      <td>0.9035</td>\n",
       "      <td>0.840750</td>\n",
       "      <td>0.7150</td>\n",
       "      <td>0.857875</td>\n",
       "      <td>0.6220</td>\n",
       "      <td>0.894750</td>\n",
       "      <td>0.270129</td>\n",
       "      <td>0.000952</td>\n",
       "      <td>0.143489</td>\n",
       "      <td>0.027682</td>\n",
       "    </tr>\n",
       "  </tbody>\n",
       "</table>\n",
       "<p>6 rows × 21 columns</p>\n",
       "</div>"
      ],
      "text/plain": [
       "   mean_fit_time  mean_score_time  mean_test_score  mean_train_score  \\\n",
       "0       7.879079         0.006968           0.8564          0.918025   \n",
       "1       7.874148         0.004776           0.8574          0.917875   \n",
       "2       7.526164         0.004981           0.8583          0.917225   \n",
       "3       7.635732         0.005080           0.8582          0.914750   \n",
       "4       8.548674         0.004697           0.8612          0.904500   \n",
       "5       4.539968         0.004909           0.8376          0.847550   \n",
       "\n",
       "  param_alpha            params  rank_test_score  split0_test_score  \\\n",
       "0       0.001  {'alpha': 0.001}                5             0.8160   \n",
       "1        0.01   {'alpha': 0.01}                4             0.8160   \n",
       "2         0.1    {'alpha': 0.1}                2             0.8185   \n",
       "3           1      {'alpha': 1}                3             0.8160   \n",
       "4          10     {'alpha': 10}                1             0.8645   \n",
       "5         100    {'alpha': 100}                6             0.9710   \n",
       "\n",
       "   split0_train_score  split1_test_score       ...         split2_test_score  \\\n",
       "0            0.925000             0.9235       ...                    0.9460   \n",
       "1            0.924625             0.9250       ...                    0.9480   \n",
       "2            0.925500             0.9280       ...                    0.9450   \n",
       "3            0.925375             0.9290       ...                    0.9570   \n",
       "4            0.912750             0.9540       ...                    0.9605   \n",
       "5            0.831250             0.9765       ...                    0.9035   \n",
       "\n",
       "   split2_train_score  split3_test_score  split3_train_score  \\\n",
       "0            0.894000             0.8675            0.911000   \n",
       "1            0.894125             0.8670            0.910125   \n",
       "2            0.893500             0.8690            0.911000   \n",
       "3            0.892125             0.8485            0.905500   \n",
       "4            0.886875             0.8440            0.898750   \n",
       "5            0.840750             0.7150            0.857875   \n",
       "\n",
       "   split4_test_score  split4_train_score  std_fit_time  std_score_time  \\\n",
       "0             0.7290            0.949375      1.706821        0.001254   \n",
       "1             0.7310            0.949750      1.549780        0.000169   \n",
       "2             0.7310            0.949875      0.588237        0.000608   \n",
       "3             0.7405            0.947250      1.024799        0.000442   \n",
       "4             0.6830            0.932125      0.947673        0.000136   \n",
       "5             0.6220            0.894750      0.270129        0.000952   \n",
       "\n",
       "   std_test_score  std_train_score  \n",
       "0        0.078124         0.018498  \n",
       "1        0.078181         0.018636  \n",
       "2        0.077819         0.019270  \n",
       "3        0.078105         0.019458  \n",
       "4        0.100533         0.016317  \n",
       "5        0.143489         0.027682  \n",
       "\n",
       "[6 rows x 21 columns]"
      ]
     },
     "execution_count": 25,
     "metadata": {},
     "output_type": "execute_result"
    }
   ],
   "source": [
    "pd.DataFrame(gs_3.cv_results_)"
   ]
  },
  {
   "cell_type": "code",
   "execution_count": 26,
   "metadata": {},
   "outputs": [
    {
     "data": {
      "text/plain": [
       "{'alpha': 10}"
      ]
     },
     "execution_count": 26,
     "metadata": {},
     "output_type": "execute_result"
    }
   ],
   "source": [
    "gs_3.best_params_"
   ]
  },
  {
   "cell_type": "code",
   "execution_count": 27,
   "metadata": {},
   "outputs": [
    {
     "data": {
      "text/plain": [
       "0.88966666666666672"
      ]
     },
     "execution_count": 27,
     "metadata": {},
     "output_type": "execute_result"
    }
   ],
   "source": [
    "gs_3.score(X_test, y_test)"
   ]
  },
  {
   "cell_type": "code",
   "execution_count": 68,
   "metadata": {},
   "outputs": [
    {
     "data": {
      "image/png": "[encoded data removed]",
      "text/plain": [
       "<matplotlib.figure.Figure at 0x1a22994400>"
      ]
     },
     "metadata": {},
     "output_type": "display_data"
    }
   ],
   "source": [
    "fig, axes = plt.subplots(1, 3, figsize=(10, 5))\n",
    "# use global min / max to ensure all weights are shown on the same scale\n",
    "# vmin, vmax = gs_3.best_estimator_.coefs_[0].min(), gs_3.best_estimator_.coefs_[0].max()\n",
    "i=0\n",
    "for coef, ax in zip(gs_3.best_estimator_.coefs_[0].T, axes.ravel()):\n",
    "    hoge = ax.imshow(coef.reshape(20, 20), cmap=plt.cm.gray,vmin=.5 * vmin,vmax=.5 * vmax)\n",
    "    ax.set_xticks(())\n",
    "    ax.set_yticks(())\n",
    "    ax.set_title(r'$\\bfw_{}$'.format(i))\n",
    "    i+=1\n",
    "plt.colorbar(hoge)\n",
    "plt.tight_layout()"
   ]
  },
  {
   "cell_type": "code",
   "execution_count": 126,
   "metadata": {},
   "outputs": [
    {
     "data": {
      "text/plain": [
       "<matplotlib.legend.Legend at 0x10d3ba5f8>"
      ]
     },
     "execution_count": 126,
     "metadata": {},
     "output_type": "execute_result"
    },
    {
     "data": {
      "image/png": "[encoded data removed]",
      "text/plain": [
       "<matplotlib.figure.Figure at 0x10aa88048>"
      ]
     },
     "metadata": {},
     "output_type": "display_data"
    }
   ],
   "source": [
    "alphas = np.unique(Data_test.loc[:,'alpha'])\n",
    "\n",
    "probabilities_0 = []\n",
    "\n",
    "for alpha in alphas:\n",
    "    probabilities_0.append(gs_3.best_estimator_.predict_proba(Data_test.values[Data_test.loc[:, 'alpha']==alpha, :-1])[:, 0].mean())\n",
    "probabilities_0 = np.array(probabilities_0)\n",
    "\n",
    "probabilities_1 = []\n",
    "\n",
    "for alpha in alphas:\n",
    "    probabilities_1.append(gs_3.best_estimator_.predict_proba(Data_test.values[Data_test.loc[:, 'alpha']==alpha, :-1])[:, 1].mean())\n",
    "probabilities_1 = np.array(probabilities_1)\n",
    "\n",
    "fig, ax = plt.subplots(1,1,figsize=(7, 5))\n",
    "ax.plot(alphas, probabilities_0*100, marker='o', c='b')\n",
    "ax.plot(alphas, probabilities_1*100, marker='x', c='r')\n",
    "ax.axvline(x=alpha_c, c=plt.cm.tab10(1), label=r'$\\alpha_c$')\n",
    "ax.set_xlim(alphas.min(), alphas.max())\n",
    "ax.set_ylim(0, 100)\n",
    "ax.set_xlabel(r'$\\alpha$', fontsize=13)\n",
    "ax.set_ylabel('accuracy', fontsize=13)\n",
    "ax.set_yticks([i*10 for i in range(11)])\n",
    "ax.legend(bbox_to_anchor=(1.05, 1.0),loc='upper left',\n",
    "          borderaxespad=0, fontsize=13)"
   ]
  },
  {
   "cell_type": "markdown",
   "metadata": {},
   "source": [
    "## 隠れそう1層　隠れ素子2"
   ]
  },
  {
   "cell_type": "code",
   "execution_count": 69,
   "metadata": {
    "collapsed": true
   },
   "outputs": [],
   "source": [
    "mlp_2 = MLPClassifier(hidden_layer_sizes=(2,), activation='relu',\n",
    "                       alpha=0.0001, random_state=0)"
   ]
  },
  {
   "cell_type": "code",
   "execution_count": 94,
   "metadata": {},
   "outputs": [
    {
     "name": "stdout",
     "output_type": "stream",
     "text": [
      "CPU times: user 8.17 s, sys: 806 ms, total: 8.97 s\n",
      "Wall time: 4.54 s\n"
     ]
    },
    {
     "data": {
      "text/plain": [
       "MLPClassifier(activation='relu', alpha=0.0001, batch_size='auto', beta_1=0.9,\n",
       "       beta_2=0.999, early_stopping=False, epsilon=1e-08,\n",
       "       hidden_layer_sizes=(2,), learning_rate='constant',\n",
       "       learning_rate_init=0.001, max_iter=200, momentum=0.9,\n",
       "       nesterovs_momentum=True, power_t=0.5, random_state=0, shuffle=True,\n",
       "       solver='adam', tol=0.0001, validation_fraction=0.1, verbose=False,\n",
       "       warm_start=False)"
      ]
     },
     "execution_count": 94,
     "metadata": {},
     "output_type": "execute_result"
    }
   ],
   "source": [
    "%%time\n",
    "mlp_2.fit(X_train, y_train)"
   ]
  },
  {
   "cell_type": "code",
   "execution_count": 95,
   "metadata": {},
   "outputs": [
    {
     "data": {
      "text/plain": [
       "0.87"
      ]
     },
     "execution_count": 95,
     "metadata": {},
     "output_type": "execute_result"
    }
   ],
   "source": [
    "mlp_2.score(X_test, y_test)"
   ]
  },
  {
   "cell_type": "code",
   "execution_count": 70,
   "metadata": {
    "collapsed": true
   },
   "outputs": [],
   "source": [
    "alphas = [10**(i) for i in range(-5, 5)]\n",
    "param_grid={'alpha' : alphas}\n",
    "param_grid\n",
    "gs_2 = GridSearchCV(estimator=mlp_2, param_grid=param_grid, \n",
    "                 cv=5, n_jobs=-1, verbose=2)"
   ]
  },
  {
   "cell_type": "code",
   "execution_count": 71,
   "metadata": {
    "scrolled": true
   },
   "outputs": [
    {
     "name": "stdout",
     "output_type": "stream",
     "text": [
      "Fitting 5 folds for each of 10 candidates, totalling 50 fits\n",
      "[CV] alpha=1e-05 .....................................................\n",
      "[CV] alpha=1e-05 .....................................................\n",
      "[CV] alpha=1e-05 .....................................................\n",
      "[CV] alpha=1e-05 .....................................................\n",
      "[CV] ...................................... alpha=1e-05, total=  11.3s\n",
      "[CV] alpha=1e-05 .....................................................\n",
      "[CV] ...................................... alpha=1e-05, total=  11.9s\n",
      "[CV] alpha=0.0001 ....................................................\n",
      "[CV] ...................................... alpha=1e-05, total=  13.6s\n",
      "[CV] alpha=0.0001 ....................................................\n",
      "[CV] ...................................... alpha=1e-05, total=  14.3s\n",
      "[CV] alpha=0.0001 ....................................................\n",
      "[CV] ...................................... alpha=1e-05, total=  10.6s\n",
      "[CV] alpha=0.0001 ....................................................\n",
      "[CV] ..................................... alpha=0.0001, total=  11.2s\n",
      "[CV] alpha=0.0001 ....................................................\n",
      "[CV] ..................................... alpha=0.0001, total=  14.4s\n",
      "[CV] alpha=0.001 .....................................................\n",
      "[CV] ..................................... alpha=0.0001, total=  12.2s\n",
      "[CV] alpha=0.001 .....................................................\n",
      "[CV] ..................................... alpha=0.0001, total=   9.8s\n",
      "[CV] alpha=0.001 .....................................................\n",
      "[CV] ..................................... alpha=0.0001, total=  10.3s\n",
      "[CV] alpha=0.001 .....................................................\n",
      "[CV] ...................................... alpha=0.001, total=  11.2s\n",
      "[CV] alpha=0.001 .....................................................\n",
      "[CV] ...................................... alpha=0.001, total=  13.7s\n",
      "[CV] alpha=0.01 ......................................................\n",
      "[CV] ...................................... alpha=0.001, total=  11.9s\n",
      "[CV] alpha=0.01 ......................................................\n",
      "[CV] ...................................... alpha=0.001, total=  10.4s\n",
      "[CV] alpha=0.01 ......................................................\n",
      "[CV] ...................................... alpha=0.001, total=  10.3s\n",
      "[CV] alpha=0.01 ......................................................\n",
      "[CV] ....................................... alpha=0.01, total=  14.3s\n",
      "[CV] alpha=0.01 ......................................................\n",
      "[CV] ....................................... alpha=0.01, total=  11.3s\n",
      "[CV] alpha=0.1 .......................................................\n",
      "[CV] ....................................... alpha=0.01, total=  11.9s\n",
      "[CV] alpha=0.1 .......................................................\n",
      "[CV] ....................................... alpha=0.01, total=  10.0s\n",
      "[CV] alpha=0.1 .......................................................\n",
      "[CV] ....................................... alpha=0.01, total=  10.5s\n",
      "[CV] alpha=0.1 .......................................................\n",
      "[CV] ........................................ alpha=0.1, total=   9.3s\n",
      "[CV] alpha=0.1 .......................................................\n",
      "[CV] ........................................ alpha=0.1, total=  13.1s\n",
      "[CV] alpha=1 .........................................................\n",
      "[CV] ........................................ alpha=0.1, total=  11.4s\n",
      "[CV] alpha=1 .........................................................\n",
      "[CV] ........................................ alpha=0.1, total=  10.5s\n",
      "[CV] alpha=1 .........................................................\n",
      "[CV] .......................................... alpha=1, total=   7.8s\n",
      "[CV] alpha=1 .........................................................\n",
      "[CV] .......................................... alpha=1, total=   9.3s\n",
      "[CV] alpha=1 .........................................................\n",
      "[CV] ........................................ alpha=0.1, total=  10.7s\n",
      "[CV] alpha=10 ........................................................\n",
      "[CV] .......................................... alpha=1, total=   8.3s\n",
      "[CV] .......................................... alpha=1, total=   6.9s\n",
      "[CV] alpha=10 ........................................................\n",
      "[CV] alpha=10 ........................................................\n",
      "[CV] .......................................... alpha=1, total=  10.2s\n",
      "[CV] alpha=10 ........................................................\n",
      "[CV] ......................................... alpha=10, total=  14.9s\n",
      "[CV] alpha=10 ........................................................\n",
      "[CV] ......................................... alpha=10, total=  12.4s\n",
      "[CV] alpha=100 .......................................................\n",
      "[CV] ......................................... alpha=10, total=  14.9s\n",
      "[CV] alpha=100 .......................................................\n"
     ]
    },
    {
     "name": "stderr",
     "output_type": "stream",
     "text": [
      "[Parallel(n_jobs=-1)]: Done  33 tasks      | elapsed:  1.7min\n"
     ]
    },
    {
     "name": "stdout",
     "output_type": "stream",
     "text": [
      "[CV] ......................................... alpha=10, total=  12.8s\n",
      "[CV] alpha=100 .......................................................\n",
      "[CV] ........................................ alpha=100, total=  10.0s\n",
      "[CV] alpha=100 .......................................................\n"
     ]
    },
    {
     "name": "stderr",
     "output_type": "stream",
     "text": [
      "/Users/yohei/.pyenv/versions/anaconda3-5.0.0/envs/tensorflow/lib/python3.5/site-packages/sklearn/neural_network/multilayer_perceptron.py:564: ConvergenceWarning: Stochastic Optimizer: Maximum iterations (200) reached and the optimization hasn't converged yet.\n",
      "  % self.max_iter, ConvergenceWarning)\n"
     ]
    },
    {
     "name": "stdout",
     "output_type": "stream",
     "text": [
      "[CV] ......................................... alpha=10, total=  15.7s\n",
      "[CV] alpha=100 .......................................................\n",
      "[CV] ........................................ alpha=100, total=  10.5s\n",
      "[CV] alpha=1000 ......................................................\n",
      "[CV] ........................................ alpha=100, total=  10.1s\n",
      "[CV] alpha=1000 ......................................................\n",
      "[CV] ....................................... alpha=1000, total=   2.3s\n",
      "[CV] alpha=1000 ......................................................\n",
      "[CV] ....................................... alpha=1000, total=   2.4s\n",
      "[CV] alpha=1000 ......................................................\n",
      "[CV] ....................................... alpha=1000, total=   2.3s\n",
      "[CV] alpha=1000 ......................................................\n",
      "[CV] ....................................... alpha=1000, total=   2.4s\n",
      "[CV] alpha=10000 .....................................................\n",
      "[CV] ....................................... alpha=1000, total=   2.4s\n",
      "[CV] alpha=10000 .....................................................\n",
      "[CV] ...................................... alpha=10000, total=   2.3s\n",
      "[CV] alpha=10000 .....................................................\n",
      "[CV] ........................................ alpha=100, total=  12.0s\n",
      "[CV] alpha=10000 .....................................................\n",
      "[CV] ...................................... alpha=10000, total=   2.5s\n",
      "[CV] alpha=10000 .....................................................\n",
      "[CV] ........................................ alpha=100, total=  11.6s\n",
      "[CV] ...................................... alpha=10000, total=   2.4s\n",
      "[CV] ...................................... alpha=10000, total=   2.2s\n",
      "[CV] ...................................... alpha=10000, total=   1.8s\n"
     ]
    },
    {
     "name": "stderr",
     "output_type": "stream",
     "text": [
      "[Parallel(n_jobs=-1)]: Done  50 out of  50 | elapsed:  2.0min finished\n"
     ]
    },
    {
     "data": {
      "text/plain": [
       "GridSearchCV(cv=5, error_score='raise',\n",
       "       estimator=MLPClassifier(activation='relu', alpha=0.0001, batch_size='auto', beta_1=0.9,\n",
       "       beta_2=0.999, early_stopping=False, epsilon=1e-08,\n",
       "       hidden_layer_sizes=(2,), learning_rate='constant',\n",
       "       learning_rate_init=0.001, max_iter=200, momentum=0.9,\n",
       "       nesterovs_momentum=True, power_t=0.5, random_state=0, shuffle=True,\n",
       "       solver='adam', tol=0.0001, validation_fraction=0.1, verbose=False,\n",
       "       warm_start=False),\n",
       "       fit_params=None, iid=True, n_jobs=-1,\n",
       "       param_grid={'alpha': [1e-05, 0.0001, 0.001, 0.01, 0.1, 1, 10, 100, 1000, 10000]},\n",
       "       pre_dispatch='2*n_jobs', refit=True, return_train_score='warn',\n",
       "       scoring=None, verbose=2)"
      ]
     },
     "execution_count": 71,
     "metadata": {},
     "output_type": "execute_result"
    }
   ],
   "source": [
    "gs_2.fit(X_train, y_train)"
   ]
  },
  {
   "cell_type": "code",
   "execution_count": 72,
   "metadata": {},
   "outputs": [
    {
     "data": {
      "text/plain": [
       "{'alpha': 10}"
      ]
     },
     "execution_count": 72,
     "metadata": {},
     "output_type": "execute_result"
    }
   ],
   "source": [
    "gs_2.best_params_"
   ]
  },
  {
   "cell_type": "code",
   "execution_count": 99,
   "metadata": {},
   "outputs": [
    {
     "name": "stderr",
     "output_type": "stream",
     "text": [
      "/Users/yohei/.pyenv/versions/anaconda3-5.0.0/envs/tensorflow/lib/python3.5/site-packages/sklearn/utils/deprecation.py:122: FutureWarning: You are accessing a training score ('mean_train_score'), which will not be available by default any more in 0.21. If you need training scores, please set return_train_score=True\n",
      "  warnings.warn(*warn_args, **warn_kwargs)\n",
      "/Users/yohei/.pyenv/versions/anaconda3-5.0.0/envs/tensorflow/lib/python3.5/site-packages/sklearn/utils/deprecation.py:122: FutureWarning: You are accessing a training score ('split0_train_score'), which will not be available by default any more in 0.21. If you need training scores, please set return_train_score=True\n",
      "  warnings.warn(*warn_args, **warn_kwargs)\n",
      "/Users/yohei/.pyenv/versions/anaconda3-5.0.0/envs/tensorflow/lib/python3.5/site-packages/sklearn/utils/deprecation.py:122: FutureWarning: You are accessing a training score ('split1_train_score'), which will not be available by default any more in 0.21. If you need training scores, please set return_train_score=True\n",
      "  warnings.warn(*warn_args, **warn_kwargs)\n",
      "/Users/yohei/.pyenv/versions/anaconda3-5.0.0/envs/tensorflow/lib/python3.5/site-packages/sklearn/utils/deprecation.py:122: FutureWarning: You are accessing a training score ('split2_train_score'), which will not be available by default any more in 0.21. If you need training scores, please set return_train_score=True\n",
      "  warnings.warn(*warn_args, **warn_kwargs)\n",
      "/Users/yohei/.pyenv/versions/anaconda3-5.0.0/envs/tensorflow/lib/python3.5/site-packages/sklearn/utils/deprecation.py:122: FutureWarning: You are accessing a training score ('split3_train_score'), which will not be available by default any more in 0.21. If you need training scores, please set return_train_score=True\n",
      "  warnings.warn(*warn_args, **warn_kwargs)\n",
      "/Users/yohei/.pyenv/versions/anaconda3-5.0.0/envs/tensorflow/lib/python3.5/site-packages/sklearn/utils/deprecation.py:122: FutureWarning: You are accessing a training score ('split4_train_score'), which will not be available by default any more in 0.21. If you need training scores, please set return_train_score=True\n",
      "  warnings.warn(*warn_args, **warn_kwargs)\n",
      "/Users/yohei/.pyenv/versions/anaconda3-5.0.0/envs/tensorflow/lib/python3.5/site-packages/sklearn/utils/deprecation.py:122: FutureWarning: You are accessing a training score ('std_train_score'), which will not be available by default any more in 0.21. If you need training scores, please set return_train_score=True\n",
      "  warnings.warn(*warn_args, **warn_kwargs)\n"
     ]
    },
    {
     "data": {
      "text/html": [
       "<div>\n",
       "<style>\n",
       "    .dataframe thead tr:only-child th {\n",
       "        text-align: right;\n",
       "    }\n",
       "\n",
       "    .dataframe thead th {\n",
       "        text-align: left;\n",
       "    }\n",
       "\n",
       "    .dataframe tbody tr th {\n",
       "        vertical-align: top;\n",
       "    }\n",
       "</style>\n",
       "<table border=\"1\" class=\"dataframe\">\n",
       "  <thead>\n",
       "    <tr style=\"text-align: right;\">\n",
       "      <th></th>\n",
       "      <th>mean_fit_time</th>\n",
       "      <th>mean_score_time</th>\n",
       "      <th>mean_test_score</th>\n",
       "      <th>mean_train_score</th>\n",
       "      <th>param_alpha</th>\n",
       "      <th>params</th>\n",
       "      <th>rank_test_score</th>\n",
       "      <th>split0_test_score</th>\n",
       "      <th>split0_train_score</th>\n",
       "      <th>split1_test_score</th>\n",
       "      <th>...</th>\n",
       "      <th>split2_test_score</th>\n",
       "      <th>split2_train_score</th>\n",
       "      <th>split3_test_score</th>\n",
       "      <th>split3_train_score</th>\n",
       "      <th>split4_test_score</th>\n",
       "      <th>split4_train_score</th>\n",
       "      <th>std_fit_time</th>\n",
       "      <th>std_score_time</th>\n",
       "      <th>std_test_score</th>\n",
       "      <th>std_train_score</th>\n",
       "    </tr>\n",
       "  </thead>\n",
       "  <tbody>\n",
       "    <tr>\n",
       "      <th>0</th>\n",
       "      <td>13.847333</td>\n",
       "      <td>0.010093</td>\n",
       "      <td>0.8349</td>\n",
       "      <td>0.932225</td>\n",
       "      <td>1e-05</td>\n",
       "      <td>{'alpha': 1e-05}</td>\n",
       "      <td>5</td>\n",
       "      <td>0.7930</td>\n",
       "      <td>0.941625</td>\n",
       "      <td>0.9155</td>\n",
       "      <td>...</td>\n",
       "      <td>0.9140</td>\n",
       "      <td>0.916375</td>\n",
       "      <td>0.8535</td>\n",
       "      <td>0.932500</td>\n",
       "      <td>0.6985</td>\n",
       "      <td>0.953125</td>\n",
       "      <td>1.071403</td>\n",
       "      <td>0.003186</td>\n",
       "      <td>0.081804</td>\n",
       "      <td>0.014095</td>\n",
       "    </tr>\n",
       "    <tr>\n",
       "      <th>1</th>\n",
       "      <td>13.234028</td>\n",
       "      <td>0.005352</td>\n",
       "      <td>0.8303</td>\n",
       "      <td>0.930625</td>\n",
       "      <td>0.0001</td>\n",
       "      <td>{'alpha': 0.0001}</td>\n",
       "      <td>8</td>\n",
       "      <td>0.7980</td>\n",
       "      <td>0.942750</td>\n",
       "      <td>0.9125</td>\n",
       "      <td>...</td>\n",
       "      <td>0.9180</td>\n",
       "      <td>0.918625</td>\n",
       "      <td>0.8200</td>\n",
       "      <td>0.919625</td>\n",
       "      <td>0.7030</td>\n",
       "      <td>0.953250</td>\n",
       "      <td>2.351601</td>\n",
       "      <td>0.002066</td>\n",
       "      <td>0.079753</td>\n",
       "      <td>0.014574</td>\n",
       "    </tr>\n",
       "    <tr>\n",
       "      <th>2</th>\n",
       "      <td>12.062239</td>\n",
       "      <td>0.003080</td>\n",
       "      <td>0.8308</td>\n",
       "      <td>0.931475</td>\n",
       "      <td>0.001</td>\n",
       "      <td>{'alpha': 0.001}</td>\n",
       "      <td>7</td>\n",
       "      <td>0.7890</td>\n",
       "      <td>0.943875</td>\n",
       "      <td>0.9120</td>\n",
       "      <td>...</td>\n",
       "      <td>0.9150</td>\n",
       "      <td>0.915375</td>\n",
       "      <td>0.8315</td>\n",
       "      <td>0.926750</td>\n",
       "      <td>0.7065</td>\n",
       "      <td>0.954000</td>\n",
       "      <td>1.444235</td>\n",
       "      <td>0.000200</td>\n",
       "      <td>0.078589</td>\n",
       "      <td>0.015109</td>\n",
       "    </tr>\n",
       "    <tr>\n",
       "      <th>3</th>\n",
       "      <td>12.419175</td>\n",
       "      <td>0.003546</td>\n",
       "      <td>0.8361</td>\n",
       "      <td>0.930750</td>\n",
       "      <td>0.01</td>\n",
       "      <td>{'alpha': 0.01}</td>\n",
       "      <td>4</td>\n",
       "      <td>0.8015</td>\n",
       "      <td>0.942375</td>\n",
       "      <td>0.9145</td>\n",
       "      <td>...</td>\n",
       "      <td>0.9150</td>\n",
       "      <td>0.914125</td>\n",
       "      <td>0.8490</td>\n",
       "      <td>0.928375</td>\n",
       "      <td>0.7005</td>\n",
       "      <td>0.952875</td>\n",
       "      <td>1.399852</td>\n",
       "      <td>0.000519</td>\n",
       "      <td>0.080153</td>\n",
       "      <td>0.014995</td>\n",
       "    </tr>\n",
       "    <tr>\n",
       "      <th>4</th>\n",
       "      <td>11.656676</td>\n",
       "      <td>0.003337</td>\n",
       "      <td>0.8377</td>\n",
       "      <td>0.929500</td>\n",
       "      <td>0.1</td>\n",
       "      <td>{'alpha': 0.1}</td>\n",
       "      <td>3</td>\n",
       "      <td>0.8135</td>\n",
       "      <td>0.938625</td>\n",
       "      <td>0.9225</td>\n",
       "      <td>...</td>\n",
       "      <td>0.9075</td>\n",
       "      <td>0.909750</td>\n",
       "      <td>0.8375</td>\n",
       "      <td>0.925250</td>\n",
       "      <td>0.7075</td>\n",
       "      <td>0.955625</td>\n",
       "      <td>1.359694</td>\n",
       "      <td>0.000532</td>\n",
       "      <td>0.076943</td>\n",
       "      <td>0.016127</td>\n",
       "    </tr>\n",
       "    <tr>\n",
       "      <th>5</th>\n",
       "      <td>10.481538</td>\n",
       "      <td>0.003210</td>\n",
       "      <td>0.8331</td>\n",
       "      <td>0.921375</td>\n",
       "      <td>1</td>\n",
       "      <td>{'alpha': 1}</td>\n",
       "      <td>6</td>\n",
       "      <td>0.7720</td>\n",
       "      <td>0.932000</td>\n",
       "      <td>0.8790</td>\n",
       "      <td>...</td>\n",
       "      <td>0.9425</td>\n",
       "      <td>0.902750</td>\n",
       "      <td>0.8645</td>\n",
       "      <td>0.917500</td>\n",
       "      <td>0.7075</td>\n",
       "      <td>0.949250</td>\n",
       "      <td>1.198355</td>\n",
       "      <td>0.000544</td>\n",
       "      <td>0.083150</td>\n",
       "      <td>0.017366</td>\n",
       "    </tr>\n",
       "    <tr>\n",
       "      <th>6</th>\n",
       "      <td>15.529245</td>\n",
       "      <td>0.003087</td>\n",
       "      <td>0.8610</td>\n",
       "      <td>0.909625</td>\n",
       "      <td>10</td>\n",
       "      <td>{'alpha': 10}</td>\n",
       "      <td>1</td>\n",
       "      <td>0.8175</td>\n",
       "      <td>0.922375</td>\n",
       "      <td>0.9450</td>\n",
       "      <td>...</td>\n",
       "      <td>0.9580</td>\n",
       "      <td>0.886250</td>\n",
       "      <td>0.8765</td>\n",
       "      <td>0.904375</td>\n",
       "      <td>0.7080</td>\n",
       "      <td>0.939000</td>\n",
       "      <td>1.254045</td>\n",
       "      <td>0.000365</td>\n",
       "      <td>0.091659</td>\n",
       "      <td>0.018877</td>\n",
       "    </tr>\n",
       "    <tr>\n",
       "      <th>7</th>\n",
       "      <td>11.495164</td>\n",
       "      <td>0.003158</td>\n",
       "      <td>0.8543</td>\n",
       "      <td>0.866675</td>\n",
       "      <td>100</td>\n",
       "      <td>{'alpha': 100}</td>\n",
       "      <td>2</td>\n",
       "      <td>0.9525</td>\n",
       "      <td>0.855625</td>\n",
       "      <td>0.9795</td>\n",
       "      <td>...</td>\n",
       "      <td>0.9140</td>\n",
       "      <td>0.847000</td>\n",
       "      <td>0.7760</td>\n",
       "      <td>0.877125</td>\n",
       "      <td>0.6495</td>\n",
       "      <td>0.912375</td>\n",
       "      <td>0.938763</td>\n",
       "      <td>0.000380</td>\n",
       "      <td>0.124062</td>\n",
       "      <td>0.025897</td>\n",
       "    </tr>\n",
       "    <tr>\n",
       "      <th>8</th>\n",
       "      <td>2.489736</td>\n",
       "      <td>0.003715</td>\n",
       "      <td>0.5555</td>\n",
       "      <td>0.555500</td>\n",
       "      <td>1000</td>\n",
       "      <td>{'alpha': 1000}</td>\n",
       "      <td>9</td>\n",
       "      <td>0.5555</td>\n",
       "      <td>0.555500</td>\n",
       "      <td>0.5555</td>\n",
       "      <td>...</td>\n",
       "      <td>0.5555</td>\n",
       "      <td>0.555500</td>\n",
       "      <td>0.5555</td>\n",
       "      <td>0.555500</td>\n",
       "      <td>0.5555</td>\n",
       "      <td>0.555500</td>\n",
       "      <td>0.051431</td>\n",
       "      <td>0.000917</td>\n",
       "      <td>0.000000</td>\n",
       "      <td>0.000000</td>\n",
       "    </tr>\n",
       "    <tr>\n",
       "      <th>9</th>\n",
       "      <td>2.738096</td>\n",
       "      <td>0.003298</td>\n",
       "      <td>0.5555</td>\n",
       "      <td>0.555500</td>\n",
       "      <td>10000</td>\n",
       "      <td>{'alpha': 10000}</td>\n",
       "      <td>9</td>\n",
       "      <td>0.5555</td>\n",
       "      <td>0.555500</td>\n",
       "      <td>0.5555</td>\n",
       "      <td>...</td>\n",
       "      <td>0.5555</td>\n",
       "      <td>0.555500</td>\n",
       "      <td>0.5555</td>\n",
       "      <td>0.555500</td>\n",
       "      <td>0.5555</td>\n",
       "      <td>0.555500</td>\n",
       "      <td>0.314391</td>\n",
       "      <td>0.000555</td>\n",
       "      <td>0.000000</td>\n",
       "      <td>0.000000</td>\n",
       "    </tr>\n",
       "  </tbody>\n",
       "</table>\n",
       "<p>10 rows × 21 columns</p>\n",
       "</div>"
      ],
      "text/plain": [
       "   mean_fit_time  mean_score_time  mean_test_score  mean_train_score  \\\n",
       "0      13.847333         0.010093           0.8349          0.932225   \n",
       "1      13.234028         0.005352           0.8303          0.930625   \n",
       "2      12.062239         0.003080           0.8308          0.931475   \n",
       "3      12.419175         0.003546           0.8361          0.930750   \n",
       "4      11.656676         0.003337           0.8377          0.929500   \n",
       "5      10.481538         0.003210           0.8331          0.921375   \n",
       "6      15.529245         0.003087           0.8610          0.909625   \n",
       "7      11.495164         0.003158           0.8543          0.866675   \n",
       "8       2.489736         0.003715           0.5555          0.555500   \n",
       "9       2.738096         0.003298           0.5555          0.555500   \n",
       "\n",
       "  param_alpha             params  rank_test_score  split0_test_score  \\\n",
       "0       1e-05   {'alpha': 1e-05}                5             0.7930   \n",
       "1      0.0001  {'alpha': 0.0001}                8             0.7980   \n",
       "2       0.001   {'alpha': 0.001}                7             0.7890   \n",
       "3        0.01    {'alpha': 0.01}                4             0.8015   \n",
       "4         0.1     {'alpha': 0.1}                3             0.8135   \n",
       "5           1       {'alpha': 1}                6             0.7720   \n",
       "6          10      {'alpha': 10}                1             0.8175   \n",
       "7         100     {'alpha': 100}                2             0.9525   \n",
       "8        1000    {'alpha': 1000}                9             0.5555   \n",
       "9       10000   {'alpha': 10000}                9             0.5555   \n",
       "\n",
       "   split0_train_score  split1_test_score       ...         split2_test_score  \\\n",
       "0            0.941625             0.9155       ...                    0.9140   \n",
       "1            0.942750             0.9125       ...                    0.9180   \n",
       "2            0.943875             0.9120       ...                    0.9150   \n",
       "3            0.942375             0.9145       ...                    0.9150   \n",
       "4            0.938625             0.9225       ...                    0.9075   \n",
       "5            0.932000             0.8790       ...                    0.9425   \n",
       "6            0.922375             0.9450       ...                    0.9580   \n",
       "7            0.855625             0.9795       ...                    0.9140   \n",
       "8            0.555500             0.5555       ...                    0.5555   \n",
       "9            0.555500             0.5555       ...                    0.5555   \n",
       "\n",
       "   split2_train_score  split3_test_score  split3_train_score  \\\n",
       "0            0.916375             0.8535            0.932500   \n",
       "1            0.918625             0.8200            0.919625   \n",
       "2            0.915375             0.8315            0.926750   \n",
       "3            0.914125             0.8490            0.928375   \n",
       "4            0.909750             0.8375            0.925250   \n",
       "5            0.902750             0.8645            0.917500   \n",
       "6            0.886250             0.8765            0.904375   \n",
       "7            0.847000             0.7760            0.877125   \n",
       "8            0.555500             0.5555            0.555500   \n",
       "9            0.555500             0.5555            0.555500   \n",
       "\n",
       "   split4_test_score  split4_train_score  std_fit_time  std_score_time  \\\n",
       "0             0.6985            0.953125      1.071403        0.003186   \n",
       "1             0.7030            0.953250      2.351601        0.002066   \n",
       "2             0.7065            0.954000      1.444235        0.000200   \n",
       "3             0.7005            0.952875      1.399852        0.000519   \n",
       "4             0.7075            0.955625      1.359694        0.000532   \n",
       "5             0.7075            0.949250      1.198355        0.000544   \n",
       "6             0.7080            0.939000      1.254045        0.000365   \n",
       "7             0.6495            0.912375      0.938763        0.000380   \n",
       "8             0.5555            0.555500      0.051431        0.000917   \n",
       "9             0.5555            0.555500      0.314391        0.000555   \n",
       "\n",
       "   std_test_score  std_train_score  \n",
       "0        0.081804         0.014095  \n",
       "1        0.079753         0.014574  \n",
       "2        0.078589         0.015109  \n",
       "3        0.080153         0.014995  \n",
       "4        0.076943         0.016127  \n",
       "5        0.083150         0.017366  \n",
       "6        0.091659         0.018877  \n",
       "7        0.124062         0.025897  \n",
       "8        0.000000         0.000000  \n",
       "9        0.000000         0.000000  \n",
       "\n",
       "[10 rows x 21 columns]"
      ]
     },
     "execution_count": 99,
     "metadata": {},
     "output_type": "execute_result"
    }
   ],
   "source": [
    "pd.DataFrame(gs_2.cv_results_)"
   ]
  },
  {
   "cell_type": "code",
   "execution_count": 73,
   "metadata": {},
   "outputs": [
    {
     "data": {
      "text/plain": [
       "0.88933333333333331"
      ]
     },
     "execution_count": 73,
     "metadata": {},
     "output_type": "execute_result"
    }
   ],
   "source": [
    "gs_2.score(X_test, y_test)"
   ]
  },
  {
   "cell_type": "code",
   "execution_count": 74,
   "metadata": {},
   "outputs": [
    {
     "data": {
      "image/png": "[encoded data removed]",
      "text/plain": [
       "<matplotlib.figure.Figure at 0x1202bc5c0>"
      ]
     },
     "metadata": {},
     "output_type": "display_data"
    }
   ],
   "source": [
    "fig, axes = plt.subplots(1, 2, figsize=(10, 5))\n",
    "# use global min / max to ensure all weights are shown on the same scale\n",
    "vmin, vmax = gs_2.best_estimator_.coefs_[0].min(), gs_2.best_estimator_.coefs_[0].max()\n",
    "i=0\n",
    "for coef, ax in zip(gs_2.best_estimator_.coefs_[0].T, axes.ravel()):\n",
    "    hoge = ax.matshow(coef.reshape(20, 20), cmap=plt.cm.gray, vmin=.5 * vmin,\n",
    "               vmax=.5 * vmax)\n",
    "    ax.set_xticks(())\n",
    "    ax.set_yticks(())\n",
    "    ax.set_title(r'$\\bfw_{}$'.format(i))\n",
    "    i+=1\n",
    "plt.colorbar(hoge)\n",
    "plt.tight_layout()"
   ]
  },
  {
   "cell_type": "code",
   "execution_count": 109,
   "metadata": {},
   "outputs": [
    {
     "data": {
      "text/plain": [
       "<matplotlib.legend.Legend at 0x10b092be0>"
      ]
     },
     "execution_count": 109,
     "metadata": {},
     "output_type": "execute_result"
    },
    {
     "data": {
      "image/png": "[encoded data removed]",
      "text/plain": [
       "<matplotlib.figure.Figure at 0x10b086080>"
      ]
     },
     "metadata": {},
     "output_type": "display_data"
    }
   ],
   "source": [
    "alphas = np.unique(Data_test.loc[:,'alpha'])\n",
    "\n",
    "probabilities_0 = []\n",
    "\n",
    "for alpha in alphas:\n",
    "    probabilities_0.append(gs_2.best_estimator_.predict_proba(Data_test.values[Data_test.loc[:, 'alpha']==alpha, :-1])[:, 0].mean())\n",
    "probabilities_0 = np.array(probabilities_0)\n",
    "\n",
    "probabilities_1 = []\n",
    "\n",
    "for alpha in alphas:\n",
    "    probabilities_1.append(gs_2.best_estimator_.predict_proba(Data_test.values[Data_test.loc[:, 'alpha']==alpha, :-1])[:, 1].mean())\n",
    "probabilities_1 = np.array(probabilities_1)\n",
    "\n",
    "fig, ax = plt.subplots(1,1,figsize=(7, 5))\n",
    "ax.plot(alphas, probabilities_0*100, marker='o', c='b')\n",
    "ax.plot(alphas, probabilities_1*100, marker='x', c='r')\n",
    "ax.axvline(x=alpha_c, c=plt.cm.tab10(1), label=r'$\\alpha_c$')\n",
    "ax.set_xlim(alphas.min(), alphas.max())\n",
    "ax.set_ylim(0, 100)\n",
    "ax.set_xlabel(r'$\\alpha$', fontsize=13)\n",
    "ax.set_ylabel('accuracy', fontsize=13)\n",
    "ax.set_yticks([i*10 for i in range(11)])\n",
    "ax.legend(bbox_to_anchor=(1.05, 1.0),loc='upper left',\n",
    "          borderaxespad=0, fontsize=13)"
   ]
  },
  {
   "cell_type": "markdown",
   "metadata": {},
   "source": [
    "## 隠れそう1層　隠れ素子1"
   ]
  },
  {
   "cell_type": "code",
   "execution_count": 75,
   "metadata": {
    "collapsed": true
   },
   "outputs": [],
   "source": [
    "mlp_1 = MLPClassifier(hidden_layer_sizes=(1,), activation='relu',\n",
    "                       alpha=0.0001, random_state=0)"
   ]
  },
  {
   "cell_type": "code",
   "execution_count": 76,
   "metadata": {},
   "outputs": [
    {
     "name": "stdout",
     "output_type": "stream",
     "text": [
      "CPU times: user 6.29 s, sys: 714 ms, total: 7 s\n",
      "Wall time: 3.62 s\n"
     ]
    },
    {
     "data": {
      "text/plain": [
       "MLPClassifier(activation='relu', alpha=0.0001, batch_size='auto', beta_1=0.9,\n",
       "       beta_2=0.999, early_stopping=False, epsilon=1e-08,\n",
       "       hidden_layer_sizes=(1,), learning_rate='constant',\n",
       "       learning_rate_init=0.001, max_iter=200, momentum=0.9,\n",
       "       nesterovs_momentum=True, power_t=0.5, random_state=0, shuffle=True,\n",
       "       solver='adam', tol=0.0001, validation_fraction=0.1, verbose=False,\n",
       "       warm_start=False)"
      ]
     },
     "execution_count": 76,
     "metadata": {},
     "output_type": "execute_result"
    }
   ],
   "source": [
    "%%time\n",
    "mlp_1.fit(X_train, y_train)"
   ]
  },
  {
   "cell_type": "code",
   "execution_count": 131,
   "metadata": {},
   "outputs": [
    {
     "data": {
      "text/plain": [
       "0.88633333333333331"
      ]
     },
     "execution_count": 131,
     "metadata": {},
     "output_type": "execute_result"
    }
   ],
   "source": [
    "mlp_1.score(X_test, y_test)"
   ]
  },
  {
   "cell_type": "code",
   "execution_count": 77,
   "metadata": {
    "collapsed": true
   },
   "outputs": [],
   "source": [
    "alphas = [10**(i) for i in range(-3, 3)]\n",
    "param_grid={'alpha' : alphas}\n",
    "param_grid\n",
    "gs_1 = GridSearchCV(estimator=mlp_1, param_grid=param_grid, \n",
    "                 cv=5, n_jobs=-1, verbose=2)"
   ]
  },
  {
   "cell_type": "code",
   "execution_count": 78,
   "metadata": {},
   "outputs": [
    {
     "name": "stdout",
     "output_type": "stream",
     "text": [
      "Fitting 5 folds for each of 6 candidates, totalling 30 fits\n",
      "[CV] alpha=0.001 .....................................................\n",
      "[CV] alpha=0.001 .....................................................\n",
      "[CV] alpha=0.001 .....................................................\n",
      "[CV] alpha=0.001 .....................................................\n",
      "[CV] ...................................... alpha=0.001, total=   6.5s\n",
      "[CV] alpha=0.001 .....................................................\n",
      "[CV] ...................................... alpha=0.001, total=   6.7s\n",
      "[CV] alpha=0.01 ......................................................\n",
      "[CV] ...................................... alpha=0.001, total=   8.1s\n",
      "[CV] alpha=0.01 ......................................................\n",
      "[CV] ...................................... alpha=0.001, total=   9.2s\n",
      "[CV] alpha=0.01 ......................................................\n",
      "[CV] ....................................... alpha=0.01, total=   8.3s\n",
      "[CV] alpha=0.01 ......................................................\n",
      "[CV] ....................................... alpha=0.01, total=   6.0s\n",
      "[CV] alpha=0.01 ......................................................\n",
      "[CV] ....................................... alpha=0.01, total=   7.4s\n",
      "[CV] alpha=0.1 .......................................................\n",
      "[CV] ...................................... alpha=0.001, total=   9.7s\n",
      "[CV] alpha=0.1 .......................................................\n",
      "[CV] ....................................... alpha=0.01, total=   6.1s\n",
      "[CV] alpha=0.1 .......................................................\n",
      "[CV] ........................................ alpha=0.1, total=   7.1s\n",
      "[CV] alpha=0.1 .......................................................\n",
      "[CV] ........................................ alpha=0.1, total=   8.3s\n",
      "[CV] alpha=0.1 .......................................................\n",
      "[CV] ....................................... alpha=0.01, total=   9.5s\n",
      "[CV] alpha=1 .........................................................\n",
      "[CV] ........................................ alpha=0.1, total=   6.0s\n",
      "[CV] alpha=1 .........................................................\n",
      "[CV] ........................................ alpha=0.1, total=   6.0s\n",
      "[CV] alpha=1 .........................................................\n",
      "[CV] ........................................ alpha=0.1, total=   9.1s\n",
      "[CV] alpha=1 .........................................................\n",
      "[CV] .......................................... alpha=1, total=   8.3s\n",
      "[CV] alpha=1 .........................................................\n",
      "[CV] .......................................... alpha=1, total=   7.5s\n",
      "[CV] alpha=10 ........................................................\n",
      "[CV] .......................................... alpha=1, total=   6.2s\n",
      "[CV] alpha=10 ........................................................\n",
      "[CV] .......................................... alpha=1, total=   7.3s\n",
      "[CV] alpha=10 ........................................................\n",
      "[CV] .......................................... alpha=1, total=   9.3s\n",
      "[CV] alpha=10 ........................................................\n",
      "[CV] ......................................... alpha=10, total=   9.8s\n",
      "[CV] alpha=10 ........................................................\n",
      "[CV] ......................................... alpha=10, total=   9.6s\n",
      "[CV] alpha=100 .......................................................\n",
      "[CV] ......................................... alpha=10, total=   8.2s\n",
      "[CV] ........................................ alpha=100, total=   3.2s\n",
      "[CV] alpha=100 .......................................................\n",
      "[CV] alpha=100 .......................................................\n",
      "[CV] ......................................... alpha=10, total=   7.9s\n",
      "[CV] alpha=100 .......................................................\n",
      "[CV] ........................................ alpha=100, total=   2.9s\n",
      "[CV] alpha=100 .......................................................\n",
      "[CV] ........................................ alpha=100, total=   3.4s\n",
      "[CV] ........................................ alpha=100, total=   2.5s\n",
      "[CV] ......................................... alpha=10, total=   8.5s\n",
      "[CV] ........................................ alpha=100, total=   1.9s\n"
     ]
    },
    {
     "name": "stderr",
     "output_type": "stream",
     "text": [
      "[Parallel(n_jobs=-1)]: Done  30 out of  30 | elapsed:   53.8s finished\n"
     ]
    },
    {
     "data": {
      "text/plain": [
       "GridSearchCV(cv=5, error_score='raise',\n",
       "       estimator=MLPClassifier(activation='relu', alpha=0.0001, batch_size='auto', beta_1=0.9,\n",
       "       beta_2=0.999, early_stopping=False, epsilon=1e-08,\n",
       "       hidden_layer_sizes=(1,), learning_rate='constant',\n",
       "       learning_rate_init=0.001, max_iter=200, momentum=0.9,\n",
       "       nesterovs_momentum=True, power_t=0.5, random_state=0, shuffle=True,\n",
       "       solver='adam', tol=0.0001, validation_fraction=0.1, verbose=False,\n",
       "       warm_start=False),\n",
       "       fit_params=None, iid=True, n_jobs=-1,\n",
       "       param_grid={'alpha': [0.001, 0.01, 0.1, 1, 10, 100]},\n",
       "       pre_dispatch='2*n_jobs', refit=True, return_train_score='warn',\n",
       "       scoring=None, verbose=2)"
      ]
     },
     "execution_count": 78,
     "metadata": {},
     "output_type": "execute_result"
    }
   ],
   "source": [
    "gs_1.fit(X_train, y_train)"
   ]
  },
  {
   "cell_type": "code",
   "execution_count": 79,
   "metadata": {},
   "outputs": [
    {
     "data": {
      "text/plain": [
       "{'alpha': 1}"
      ]
     },
     "execution_count": 79,
     "metadata": {},
     "output_type": "execute_result"
    }
   ],
   "source": [
    "gs_1.best_params_"
   ]
  },
  {
   "cell_type": "code",
   "execution_count": 80,
   "metadata": {},
   "outputs": [
    {
     "data": {
      "text/plain": [
       "0.89000000000000001"
      ]
     },
     "execution_count": 80,
     "metadata": {},
     "output_type": "execute_result"
    }
   ],
   "source": [
    "gs_1.score(X_test, y_test)"
   ]
  },
  {
   "cell_type": "code",
   "execution_count": 81,
   "metadata": {},
   "outputs": [
    {
     "data": {
      "image/png": "[encoded data removed]",
      "text/plain": [
       "<matplotlib.figure.Figure at 0x12029ce10>"
      ]
     },
     "metadata": {},
     "output_type": "display_data"
    }
   ],
   "source": [
    "fig, axes = plt.subplots(1, 1, figsize=(10, 5))\n",
    "# use global min / max to ensure all weights are shown on the same scale\n",
    "vmin, vmax = gs_1.best_estimator_.coefs_[0].min(), gs_1.best_estimator_.coefs_[0].max()\n",
    "i=0\n",
    "for coefin in gs_1.best_estimator_.coefs_[0].T:\n",
    "    axes.matshow(coef.reshape(20, 20), cmap=plt.cm.gray, vmin=.5 * vmin,\n",
    "               vmax=.5 * vmax)\n",
    "    axes.set_xticks(())\n",
    "    axes.set_yticks(())\n",
    "    axes.set_title(r'$\\bfw_{}$'.format(i))\n",
    "    i+=1\n",
    "plt.colorbar(hoge)\n",
    "plt.tight_layout()"
   ]
  },
  {
   "cell_type": "code",
   "execution_count": null,
   "metadata": {
    "collapsed": true
   },
   "outputs": [],
   "source": []
  },
  {
   "cell_type": "code",
   "execution_count": null,
   "metadata": {
    "collapsed": true
   },
   "outputs": [],
   "source": []
  },
  {
   "cell_type": "markdown",
   "metadata": {},
   "source": [
    "$\\alpha_c$ = 1/4\n",
    "となるような$p$で作ったデータをテストデータとして識別してみる．\n",
    "\n",
    "\n",
    "普通は間違えるはずだが，どうなるか見てみる．"
   ]
  },
  {
   "cell_type": "code",
   "execution_count": null,
   "metadata": {},
   "outputs": [],
   "source": []
  },
  {
   "cell_type": "code",
   "execution_count": null,
   "metadata": {
    "collapsed": true
   },
   "outputs": [],
   "source": []
  }
 ],
 "metadata": {
  "kernelspec": {
   "display_name": "tensorflow",
   "language": "python",
   "name": "tensorflow"
  },
  "language_info": {
   "codemirror_mode": {
    "name": "ipython",
    "version": 3
   },
   "file_extension": ".py",
   "mimetype": "text/x-python",
   "name": "python",
   "nbconvert_exporter": "python",
   "pygments_lexer": "ipython3",
   "version": "3.5.4"
  }
 },
 "nbformat": 4,
 "nbformat_minor": 2
}
